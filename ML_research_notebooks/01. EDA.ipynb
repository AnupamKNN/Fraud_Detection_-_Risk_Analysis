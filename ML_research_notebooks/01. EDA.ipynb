{
 "cells": [
  {
   "cell_type": "markdown",
   "id": "ebdc302d",
   "metadata": {},
   "source": [
    "## Fraud Detection and Risk Analytics for FinTechs/SMEs"
   ]
  },
  {
   "cell_type": "markdown",
   "id": "f8bb114d",
   "metadata": {},
   "source": [
    "## Exploratory Data Analysis"
   ]
  },
  {
   "cell_type": "markdown",
   "id": "c2dbbf2e",
   "metadata": {},
   "source": [
    "### Data Collection\n",
    "\n",
    "The dataset used in this project was sourced from Kaggle and is titled \"Credit Card Fraud Detection\". It contains credit card transactions made by European cardholders in September 2013 over a period of two days.\n",
    "\n",
    "Key details of the dataset include:\n",
    "\n",
    "- Number of transactions: 284,807\n",
    "\n",
    "- Number of fraudulent transactions: 492 (about 0.172% of all transactions)\n",
    "\n",
    "- Number of features: 31\n",
    "\n",
    "- Feature details:\n",
    "\n",
    "    - The features V1 to V28 are numerical values derived from a Principal Component Analysis (PCA) transformation applied to protect sensitive information.\n",
    "\n",
    "    - The 'Time' feature represents the seconds elapsed between each transaction and the first transaction in the dataset.\n",
    "\n",
    "    - The 'Amount' feature indicates the transaction amount.\n",
    "\n",
    "    - The 'Class' feature is the target variable, with 1 indicating a fraudulent transaction and 0 indicating a genuine one.\n",
    "\n",
    "    - The dataset is highly unbalanced with very few fraud cases compared to the total transactions. This characteristic makes it suitable for evaluating fraud detection methods that handle class imbalance effectively.\n",
    "\n",
    "Overall, this dataset provides a realistic and challenging foundation for developing and testing machine learning models aimed at identifying fraudulent credit card transactions."
   ]
  },
  {
   "cell_type": "code",
   "execution_count": 4,
   "id": "8fbe4169",
   "metadata": {},
   "outputs": [
    {
     "name": "stdout",
     "output_type": "stream",
     "text": [
      "Downloading from https://www.kaggle.com/api/v1/datasets/download/mlg-ulb/creditcardfraud?dataset_version_number=3...\n"
     ]
    },
    {
     "name": "stderr",
     "output_type": "stream",
     "text": [
      "100%|██████████| 66.0M/66.0M [00:05<00:00, 12.9MB/s]"
     ]
    },
    {
     "name": "stdout",
     "output_type": "stream",
     "text": [
      "Extracting files...\n"
     ]
    },
    {
     "name": "stderr",
     "output_type": "stream",
     "text": [
      "\n"
     ]
    },
    {
     "name": "stdout",
     "output_type": "stream",
     "text": [
      "Dataset downloaded to: /home/anupam9k/.cache/kagglehub/datasets/mlg-ulb/creditcardfraud/versions/3\n",
      "Dataset moved to: ML_research_notebooks/Data\n"
     ]
    }
   ],
   "source": [
    "import kagglehub\n",
    "import shutil\n",
    "import os\n",
    "\n",
    "# Download the latest version of the dataset (downloads to default cache)\n",
    "path = kagglehub.dataset_download(\"mlg-ulb/creditcardfraud\")\n",
    "\n",
    "print(\"Dataset downloaded to:\", path)\n",
    "\n",
    "# Define your target folder\n",
    "target_folder = \"Data\"\n",
    "\n",
    "# Make sure the target folder exists\n",
    "os.makedirs(target_folder, exist_ok=True)\n",
    "\n",
    "# Move or copy the downloaded dataset files to your target folder\n",
    "# Note: \"path\" points to the cache directory with downloaded files\n",
    "\n",
    "shutil.move(path, target_folder)\n",
    "\n",
    "print(\"Dataset moved to:\", target_folder)\n"
   ]
  },
  {
   "cell_type": "markdown",
   "id": "43b837dd",
   "metadata": {},
   "source": [
    "### Before beginning the EDA, let us load the libararies necessary"
   ]
  },
  {
   "cell_type": "code",
   "execution_count": 22,
   "id": "276cfbe8",
   "metadata": {},
   "outputs": [],
   "source": [
    "import pandas as pd\n",
    "import numpy as np\n",
    "import matplotlib.pyplot as plt\n",
    "import seaborn as sns"
   ]
  },
  {
   "cell_type": "markdown",
   "id": "35480122",
   "metadata": {},
   "source": [
    "### Moving forward, let us load the dataset"
   ]
  },
  {
   "cell_type": "code",
   "execution_count": 6,
   "id": "95b17b59",
   "metadata": {},
   "outputs": [],
   "source": [
    "df = pd.read_csv(\"Data/creditcard.csv\")"
   ]
  },
  {
   "cell_type": "markdown",
   "id": "c302a6b2",
   "metadata": {},
   "source": [
    "### Let us have a quick look at the dataset by pulling the first 5 rows"
   ]
  },
  {
   "cell_type": "code",
   "execution_count": 7,
   "id": "713b340e",
   "metadata": {},
   "outputs": [
    {
     "data": {
      "text/html": [
       "<div>\n",
       "<style scoped>\n",
       "    .dataframe tbody tr th:only-of-type {\n",
       "        vertical-align: middle;\n",
       "    }\n",
       "\n",
       "    .dataframe tbody tr th {\n",
       "        vertical-align: top;\n",
       "    }\n",
       "\n",
       "    .dataframe thead th {\n",
       "        text-align: right;\n",
       "    }\n",
       "</style>\n",
       "<table border=\"1\" class=\"dataframe\">\n",
       "  <thead>\n",
       "    <tr style=\"text-align: right;\">\n",
       "      <th></th>\n",
       "      <th>Time</th>\n",
       "      <th>V1</th>\n",
       "      <th>V2</th>\n",
       "      <th>V3</th>\n",
       "      <th>V4</th>\n",
       "      <th>V5</th>\n",
       "      <th>V6</th>\n",
       "      <th>V7</th>\n",
       "      <th>V8</th>\n",
       "      <th>V9</th>\n",
       "      <th>...</th>\n",
       "      <th>V21</th>\n",
       "      <th>V22</th>\n",
       "      <th>V23</th>\n",
       "      <th>V24</th>\n",
       "      <th>V25</th>\n",
       "      <th>V26</th>\n",
       "      <th>V27</th>\n",
       "      <th>V28</th>\n",
       "      <th>Amount</th>\n",
       "      <th>Class</th>\n",
       "    </tr>\n",
       "  </thead>\n",
       "  <tbody>\n",
       "    <tr>\n",
       "      <th>0</th>\n",
       "      <td>0.0</td>\n",
       "      <td>-1.359807</td>\n",
       "      <td>-0.072781</td>\n",
       "      <td>2.536347</td>\n",
       "      <td>1.378155</td>\n",
       "      <td>-0.338321</td>\n",
       "      <td>0.462388</td>\n",
       "      <td>0.239599</td>\n",
       "      <td>0.098698</td>\n",
       "      <td>0.363787</td>\n",
       "      <td>...</td>\n",
       "      <td>-0.018307</td>\n",
       "      <td>0.277838</td>\n",
       "      <td>-0.110474</td>\n",
       "      <td>0.066928</td>\n",
       "      <td>0.128539</td>\n",
       "      <td>-0.189115</td>\n",
       "      <td>0.133558</td>\n",
       "      <td>-0.021053</td>\n",
       "      <td>149.62</td>\n",
       "      <td>0</td>\n",
       "    </tr>\n",
       "    <tr>\n",
       "      <th>1</th>\n",
       "      <td>0.0</td>\n",
       "      <td>1.191857</td>\n",
       "      <td>0.266151</td>\n",
       "      <td>0.166480</td>\n",
       "      <td>0.448154</td>\n",
       "      <td>0.060018</td>\n",
       "      <td>-0.082361</td>\n",
       "      <td>-0.078803</td>\n",
       "      <td>0.085102</td>\n",
       "      <td>-0.255425</td>\n",
       "      <td>...</td>\n",
       "      <td>-0.225775</td>\n",
       "      <td>-0.638672</td>\n",
       "      <td>0.101288</td>\n",
       "      <td>-0.339846</td>\n",
       "      <td>0.167170</td>\n",
       "      <td>0.125895</td>\n",
       "      <td>-0.008983</td>\n",
       "      <td>0.014724</td>\n",
       "      <td>2.69</td>\n",
       "      <td>0</td>\n",
       "    </tr>\n",
       "    <tr>\n",
       "      <th>2</th>\n",
       "      <td>1.0</td>\n",
       "      <td>-1.358354</td>\n",
       "      <td>-1.340163</td>\n",
       "      <td>1.773209</td>\n",
       "      <td>0.379780</td>\n",
       "      <td>-0.503198</td>\n",
       "      <td>1.800499</td>\n",
       "      <td>0.791461</td>\n",
       "      <td>0.247676</td>\n",
       "      <td>-1.514654</td>\n",
       "      <td>...</td>\n",
       "      <td>0.247998</td>\n",
       "      <td>0.771679</td>\n",
       "      <td>0.909412</td>\n",
       "      <td>-0.689281</td>\n",
       "      <td>-0.327642</td>\n",
       "      <td>-0.139097</td>\n",
       "      <td>-0.055353</td>\n",
       "      <td>-0.059752</td>\n",
       "      <td>378.66</td>\n",
       "      <td>0</td>\n",
       "    </tr>\n",
       "    <tr>\n",
       "      <th>3</th>\n",
       "      <td>1.0</td>\n",
       "      <td>-0.966272</td>\n",
       "      <td>-0.185226</td>\n",
       "      <td>1.792993</td>\n",
       "      <td>-0.863291</td>\n",
       "      <td>-0.010309</td>\n",
       "      <td>1.247203</td>\n",
       "      <td>0.237609</td>\n",
       "      <td>0.377436</td>\n",
       "      <td>-1.387024</td>\n",
       "      <td>...</td>\n",
       "      <td>-0.108300</td>\n",
       "      <td>0.005274</td>\n",
       "      <td>-0.190321</td>\n",
       "      <td>-1.175575</td>\n",
       "      <td>0.647376</td>\n",
       "      <td>-0.221929</td>\n",
       "      <td>0.062723</td>\n",
       "      <td>0.061458</td>\n",
       "      <td>123.50</td>\n",
       "      <td>0</td>\n",
       "    </tr>\n",
       "    <tr>\n",
       "      <th>4</th>\n",
       "      <td>2.0</td>\n",
       "      <td>-1.158233</td>\n",
       "      <td>0.877737</td>\n",
       "      <td>1.548718</td>\n",
       "      <td>0.403034</td>\n",
       "      <td>-0.407193</td>\n",
       "      <td>0.095921</td>\n",
       "      <td>0.592941</td>\n",
       "      <td>-0.270533</td>\n",
       "      <td>0.817739</td>\n",
       "      <td>...</td>\n",
       "      <td>-0.009431</td>\n",
       "      <td>0.798278</td>\n",
       "      <td>-0.137458</td>\n",
       "      <td>0.141267</td>\n",
       "      <td>-0.206010</td>\n",
       "      <td>0.502292</td>\n",
       "      <td>0.219422</td>\n",
       "      <td>0.215153</td>\n",
       "      <td>69.99</td>\n",
       "      <td>0</td>\n",
       "    </tr>\n",
       "  </tbody>\n",
       "</table>\n",
       "<p>5 rows × 31 columns</p>\n",
       "</div>"
      ],
      "text/plain": [
       "   Time        V1        V2        V3        V4        V5        V6        V7  \\\n",
       "0   0.0 -1.359807 -0.072781  2.536347  1.378155 -0.338321  0.462388  0.239599   \n",
       "1   0.0  1.191857  0.266151  0.166480  0.448154  0.060018 -0.082361 -0.078803   \n",
       "2   1.0 -1.358354 -1.340163  1.773209  0.379780 -0.503198  1.800499  0.791461   \n",
       "3   1.0 -0.966272 -0.185226  1.792993 -0.863291 -0.010309  1.247203  0.237609   \n",
       "4   2.0 -1.158233  0.877737  1.548718  0.403034 -0.407193  0.095921  0.592941   \n",
       "\n",
       "         V8        V9  ...       V21       V22       V23       V24       V25  \\\n",
       "0  0.098698  0.363787  ... -0.018307  0.277838 -0.110474  0.066928  0.128539   \n",
       "1  0.085102 -0.255425  ... -0.225775 -0.638672  0.101288 -0.339846  0.167170   \n",
       "2  0.247676 -1.514654  ...  0.247998  0.771679  0.909412 -0.689281 -0.327642   \n",
       "3  0.377436 -1.387024  ... -0.108300  0.005274 -0.190321 -1.175575  0.647376   \n",
       "4 -0.270533  0.817739  ... -0.009431  0.798278 -0.137458  0.141267 -0.206010   \n",
       "\n",
       "        V26       V27       V28  Amount  Class  \n",
       "0 -0.189115  0.133558 -0.021053  149.62      0  \n",
       "1  0.125895 -0.008983  0.014724    2.69      0  \n",
       "2 -0.139097 -0.055353 -0.059752  378.66      0  \n",
       "3 -0.221929  0.062723  0.061458  123.50      0  \n",
       "4  0.502292  0.219422  0.215153   69.99      0  \n",
       "\n",
       "[5 rows x 31 columns]"
      ]
     },
     "execution_count": 7,
     "metadata": {},
     "output_type": "execute_result"
    }
   ],
   "source": [
    "df.head()"
   ]
  },
  {
   "cell_type": "markdown",
   "id": "dbd9532d",
   "metadata": {},
   "source": [
    "### Let us look at the column information at a glance"
   ]
  },
  {
   "cell_type": "code",
   "execution_count": 8,
   "id": "eba0db3d",
   "metadata": {},
   "outputs": [
    {
     "name": "stdout",
     "output_type": "stream",
     "text": [
      "<class 'pandas.core.frame.DataFrame'>\n",
      "RangeIndex: 284807 entries, 0 to 284806\n",
      "Data columns (total 31 columns):\n",
      " #   Column  Non-Null Count   Dtype  \n",
      "---  ------  --------------   -----  \n",
      " 0   Time    284807 non-null  float64\n",
      " 1   V1      284807 non-null  float64\n",
      " 2   V2      284807 non-null  float64\n",
      " 3   V3      284807 non-null  float64\n",
      " 4   V4      284807 non-null  float64\n",
      " 5   V5      284807 non-null  float64\n",
      " 6   V6      284807 non-null  float64\n",
      " 7   V7      284807 non-null  float64\n",
      " 8   V8      284807 non-null  float64\n",
      " 9   V9      284807 non-null  float64\n",
      " 10  V10     284807 non-null  float64\n",
      " 11  V11     284807 non-null  float64\n",
      " 12  V12     284807 non-null  float64\n",
      " 13  V13     284807 non-null  float64\n",
      " 14  V14     284807 non-null  float64\n",
      " 15  V15     284807 non-null  float64\n",
      " 16  V16     284807 non-null  float64\n",
      " 17  V17     284807 non-null  float64\n",
      " 18  V18     284807 non-null  float64\n",
      " 19  V19     284807 non-null  float64\n",
      " 20  V20     284807 non-null  float64\n",
      " 21  V21     284807 non-null  float64\n",
      " 22  V22     284807 non-null  float64\n",
      " 23  V23     284807 non-null  float64\n",
      " 24  V24     284807 non-null  float64\n",
      " 25  V25     284807 non-null  float64\n",
      " 26  V26     284807 non-null  float64\n",
      " 27  V27     284807 non-null  float64\n",
      " 28  V28     284807 non-null  float64\n",
      " 29  Amount  284807 non-null  float64\n",
      " 30  Class   284807 non-null  int64  \n",
      "dtypes: float64(30), int64(1)\n",
      "memory usage: 67.4 MB\n"
     ]
    }
   ],
   "source": [
    "df.info()"
   ]
  },
  {
   "cell_type": "markdown",
   "id": "da37676e",
   "metadata": {},
   "source": [
    "### Checking for missing values is paramount to understanding the dataset and building robust models."
   ]
  },
  {
   "cell_type": "code",
   "execution_count": 9,
   "id": "f86af64f",
   "metadata": {},
   "outputs": [
    {
     "data": {
      "text/plain": [
       "Time      0\n",
       "V1        0\n",
       "V2        0\n",
       "V3        0\n",
       "V4        0\n",
       "V5        0\n",
       "V6        0\n",
       "V7        0\n",
       "V8        0\n",
       "V9        0\n",
       "V10       0\n",
       "V11       0\n",
       "V12       0\n",
       "V13       0\n",
       "V14       0\n",
       "V15       0\n",
       "V16       0\n",
       "V17       0\n",
       "V18       0\n",
       "V19       0\n",
       "V20       0\n",
       "V21       0\n",
       "V22       0\n",
       "V23       0\n",
       "V24       0\n",
       "V25       0\n",
       "V26       0\n",
       "V27       0\n",
       "V28       0\n",
       "Amount    0\n",
       "Class     0\n",
       "dtype: int64"
      ]
     },
     "execution_count": 9,
     "metadata": {},
     "output_type": "execute_result"
    }
   ],
   "source": [
    "df.isnull().sum()"
   ]
  },
  {
   "cell_type": "markdown",
   "id": "ecbb3bf6",
   "metadata": {},
   "source": [
    "As can be seen, the dataset does not have any missing values."
   ]
  },
  {
   "cell_type": "markdown",
   "id": "4c9667be",
   "metadata": {},
   "source": [
    "### Let us look at the class distribution in \"Class\" column"
   ]
  },
  {
   "cell_type": "code",
   "execution_count": 10,
   "id": "14273256",
   "metadata": {},
   "outputs": [
    {
     "name": "stdout",
     "output_type": "stream",
     "text": [
      "Class\n",
      "0    284315\n",
      "1       492\n",
      "Name: count, dtype: int64\n"
     ]
    }
   ],
   "source": [
    "print(df['Class'].value_counts())"
   ]
  },
  {
   "cell_type": "code",
   "execution_count": 11,
   "id": "487011aa",
   "metadata": {},
   "outputs": [
    {
     "name": "stdout",
     "output_type": "stream",
     "text": [
      "Class\n",
      "0    0.998273\n",
      "1    0.001727\n",
      "Name: proportion, dtype: float64\n"
     ]
    }
   ],
   "source": [
    "print(df['Class'].value_counts(normalize=True))"
   ]
  },
  {
   "cell_type": "markdown",
   "id": "49ad5f45",
   "metadata": {},
   "source": [
    "### Let us perform Data Visualization and Class Imbalance Check"
   ]
  },
  {
   "cell_type": "markdown",
   "id": "04526007",
   "metadata": {},
   "source": [
    "#### 1. Class Distribution"
   ]
  },
  {
   "cell_type": "code",
   "execution_count": 14,
   "id": "9f40cb3b",
   "metadata": {},
   "outputs": [
    {
     "data": {
      "image/png": "[encoded data removed]",
      "text/plain": [
       "<Figure size 1000x800 with 1 Axes>"
      ]
     },
     "metadata": {},
     "output_type": "display_data"
    }
   ],
   "source": [
    "plt.figure(figsize=(10,8))\n",
    "sns.countplot(x='Class', data=df)\n",
    "plt.title('Class Distribution: Fraud vs Non-Fraud')\n",
    "plt.xlabel('Class (0=Non-Fraud, 1=Fraud)')\n",
    "plt.ylabel('Count')\n",
    "plt.show()"
   ]
  },
  {
   "cell_type": "markdown",
   "id": "9094b1fe",
   "metadata": {},
   "source": [
    "As expected, non-fraud transactions (class 0) massively outnumber fraud (class 1).\n",
    "\n",
    "The distribution plot shows a highly imbalanced dataset, where legitimate transactions (Class 0) overwhelmingly outnumber fraudulent transactions (Class 1). Specifically, fraudulent cases represent only about 0.17% of all transactions. This extreme imbalance poses a significant challenge for modeling, as naive models could simply predict every transaction as non-fraud and still achieve high accuracy. "
   ]
  },
  {
   "cell_type": "markdown",
   "id": "953767d8",
   "metadata": {},
   "source": [
    "#### 2. Transaction Amount Distribution by Class (log scale)"
   ]
  },
  {
   "cell_type": "code",
   "execution_count": 15,
   "id": "554ec1cd",
   "metadata": {},
   "outputs": [
    {
     "data": {
      "image/png": "[encoded data removed]",
      "text/plain": [
       "<Figure size 1000x700 with 1 Axes>"
      ]
     },
     "metadata": {},
     "output_type": "display_data"
    }
   ],
   "source": [
    "plt.figure(figsize = (10, 7))\n",
    "sns.histplot(data = df, x = \"Amount\", hue = \"Class\", bins = 50, log_scale=True, element = 'step', stat = \"density\", common_norm= False)\n",
    "plt.title('Transaction Amount Distribution by Class (Log Scale)')\n",
    "plt.xlabel('Transaction Amount')\n",
    "plt.ylabel('Density')\n",
    "plt.show()"
   ]
  },
  {
   "cell_type": "markdown",
   "id": "b755523e",
   "metadata": {},
   "source": [
    "The histogram reveals distinct patterns in the transaction amounts between fraudulent and non-fraudulent transactions when visualized on a logarithmic scale. Fraudulent transactions tend to cluster in certain amount ranges, which may suggest typical fraud amounts—for example, either very low-value transactions aimed at testing stolen credentials or higher-value transactions attempting to extract significant sums. This insight justifies including the amount as a key feature and motivates further investigation into amount thresholds or segmentation strategies for enhanced fraud prediction."
   ]
  },
  {
   "cell_type": "markdown",
   "id": "cdf223ec",
   "metadata": {},
   "source": [
    "#### 3. Transaction Time Distribution by Class"
   ]
  },
  {
   "cell_type": "code",
   "execution_count": 17,
   "id": "ef4ad782",
   "metadata": {},
   "outputs": [
    {
     "data": {
      "image/png": "[encoded data removed]",
      "text/plain": [
       "<Figure size 1000x700 with 1 Axes>"
      ]
     },
     "metadata": {},
     "output_type": "display_data"
    }
   ],
   "source": [
    "plt.figure(figsize = (10, 7))\n",
    "sns.histplot(data = df, x = \"Time\", hue = \"Class\", bins = 50, element= 'step', stat = 'density', common_norm= False)\n",
    "plt.title('Transaction Time Distribution by Class')\n",
    "plt.xlabel('Seconnds since the first transaction')\n",
    "plt.ylabel('Density')\n",
    "plt.show()"
   ]
  },
  {
   "cell_type": "markdown",
   "id": "c1ed06e7",
   "metadata": {},
   "source": [
    "The transaction time distribution shows how transaction activity varies over the seconds elapsed since the first transaction in the dataset. If the distributions of fraudulent and non-fraudulent transactions appear roughly uniform or similar, time may not be a strong standalone predictor. However, any noticeable spikes or irregularities in the fraud transaction timeline could indicate concentrated fraud attacks during specific periods. This observation suggests engineering time-based features (such as hour of day, day of week) to capture temporal fraud trends and improve the model’s sensitivity to time-related anomalies."
   ]
  },
  {
   "cell_type": "markdown",
   "id": "8236ea4c",
   "metadata": {},
   "source": [
    "### General Interpretation Summary\n",
    "\n",
    "The EDA confirms the classic challenges of fraud detection: extreme class imbalance and nuanced feature distributions. The available features, including anonymized PCA components, transaction amount, and time, provide a solid base for applying machine learning techniques. Effective preprocessing—scaling amounts, addressing imbalance—and thorough feature engineering will be key to building a robust fraud detection model. Attention to explainability and interpretability will be essential for real-world deployment, as fraud analysts must understand the rationale behind flagged transactions."
   ]
  },
  {
   "cell_type": "markdown",
   "id": "36689da0",
   "metadata": {},
   "source": [
    "### Understand the Time Column\n",
    "\n",
    "- The Time feature represents the seconds elapsed since the first transaction in the dataset.\n",
    "\n",
    "- Our goal is to convert this raw time into meaningful calendar-related features such as:\n",
    "\n",
    "    - Hour of day (0–23)\n",
    "\n",
    "    - Day of week (0–6, e.g., Monday to Sunday)\n",
    "\n",
    "    - Elapsed days\n",
    "\n",
    "    - Other cyclic features like sin/cos transforms of hour or day can capture periodicity."
   ]
  },
  {
   "cell_type": "markdown",
   "id": "e4c1a12b",
   "metadata": {},
   "source": [
    "### Converting Time to DateTime Features"
   ]
  },
  {
   "cell_type": "code",
   "execution_count": 37,
   "id": "5e51e7fa",
   "metadata": {},
   "outputs": [],
   "source": [
    "import pandas as pd\n",
    "\n",
    "# Let us add a reference start \"datetime\" (arbitrary since no absolute date): use \"2020-01-01\"\n",
    "start_date = pd.to_datetime('2020-01-01')\n",
    "\n",
    "# Create a datetime column by adding seconds\n",
    "df['TransactionDate'] = start_date + pd.to_timedelta(df['Time'], unit='s')\n",
    "\n",
    "# Extract hour of day\n",
    "df['Hour'] = df['TransactionDate'].dt.hour\n",
    "\n",
    "# Extract elapsed days\n",
    "df['ElapsedDays'] = (df['TransactionDate'] - start_date).dt.days\n",
    "\n",
    "# Create cyclic features for hoyr and day of week (helps many ML Algorithms)\n",
    "df['Hour_sin'] = np.sin(2 * np.pi * df['Hour'] / 24)\n",
    "df['Hour_cos'] = np.cos(2 * np.pi * df['Hour'] / 24)"
   ]
  },
  {
   "cell_type": "markdown",
   "id": "57a98ebb",
   "metadata": {},
   "source": [
    "### Now, it is time to analyze and visualize new features"
   ]
  },
  {
   "cell_type": "markdown",
   "id": "575ae117",
   "metadata": {},
   "source": [
    "#### Average Fraud rate by hour"
   ]
  },
  {
   "cell_type": "code",
   "execution_count": 38,
   "id": "18749e3e",
   "metadata": {},
   "outputs": [
    {
     "data": {
      "image/png": "[encoded data removed]",
      "text/plain": [
       "<Figure size 1000x500 with 1 Axes>"
      ]
     },
     "metadata": {},
     "output_type": "display_data"
    }
   ],
   "source": [
    "fraud_by_hour = df.groupby('Hour')['Class'].mean()\n",
    "\n",
    "plt.figure(figsize=(10, 5))\n",
    "sns.barplot(x = fraud_by_hour.index, y = fraud_by_hour.values)\n",
    "plt.title(\"Fraud Rate by Hour of Day\")\n",
    "plt.xlabel('Hour of Day')\n",
    "plt.ylabel('Average Fraud Rate')\n",
    "plt.show()"
   ]
  },
  {
   "cell_type": "markdown",
   "id": "81547186",
   "metadata": {},
   "source": [
    "### Key Insights\n",
    "1. Strong Temporal Variation in Fraud Rate\n",
    "\n",
    "    - The average fraud rate is highest in the early morning hours, peaking sharply at hour 2 (i.e., 2 AM), with secondary smaller spikes in the subsequent hours.\n",
    "\n",
    "    - After about 6 AM, the rate drops and stays much lower and relatively flat for the rest of the day.\n",
    "\n",
    "    - There’s another slight rise at the end of the day (around hour 23).\n",
    "\n",
    "2. Possible Reasons\n",
    "\n",
    "    - Less Vigilance: Fraudsters may intentionally operate during off-peak hours (late night/early morning) when fewer real customers and anti-fraud staff are active, hoping fraud goes unchecked.\n",
    "\n",
    "    - Shift Change-overs: Internal bank monitoring might be weakest around these hours.\n",
    "\n",
    "    - Automated Systems: Some fraud attacks are automated scripts running in the dead of night.\n",
    "\n"
   ]
  },
  {
   "cell_type": "markdown",
   "id": "374beaf0",
   "metadata": {},
   "source": [
    "The visualization of fraud rates by hour of day reveals a significant temporal pattern in fraudulent activity. Fraudulent transactions peak sharply during the early morning hours, especially between 1 AM and 3 AM, where the fraud rate is substantially higher—up to five times—compared to other periods of the day. Following this peak, the fraud rate declines steeply and remains relatively low throughout typical business hours, with only minor fluctuations late at night.\n",
    "\n",
    "This pattern strongly suggests that fraudsters tend to operate during nighttime hours, likely taking advantage of reduced transaction volumes and lower levels of real-time monitoring or human oversight. From a modeling perspective, this analysis validates the importance of including the hour of transaction as a key feature—ideally encoded cyclically to capture its periodic nature—in machine learning models for fraud detection.\n",
    "\n",
    "For practical applications, such insights can guide fraud detection teams and compliance officers to dynamically adjust their monitoring efforts, such as increasing vigilance or lowering alert thresholds during these high-risk hours. It also highlights how integrating temporal analytics into fraud detection systems offers business value by optimizing resource allocation and response strategies."
   ]
  },
  {
   "cell_type": "markdown",
   "id": "5dd31f81",
   "metadata": {},
   "source": [
    "### Save the Preprocessed Dataset"
   ]
  },
  {
   "cell_type": "code",
   "execution_count": 47,
   "id": "f654152e",
   "metadata": {},
   "outputs": [],
   "source": [
    "os.makedirs(\"Cleaned_Data\", exist_ok=True)\n",
    "df.to_csv(\"Cleaned_Data/creditcard_cleaned.csv\", index=False)"
   ]
  }
 ],
 "metadata": {
  "kernelspec": {
   "display_name": "Python 3",
   "language": "python",
   "name": "python3"
  },
  "language_info": {
   "codemirror_mode": {
    "name": "ipython",
    "version": 3
   },
   "file_extension": ".py",
   "mimetype": "text/x-python",
   "name": "python",
   "nbconvert_exporter": "python",
   "pygments_lexer": "ipython3",
   "version": "3.10.18"
  }
 },
 "nbformat": 4,
 "nbformat_minor": 5
}
